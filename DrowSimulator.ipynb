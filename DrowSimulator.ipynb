{
 "cells": [
  {
   "cell_type": "code",
   "execution_count": 4,
   "id": "33a4df34",
   "metadata": {},
   "outputs": [
    {
     "name": "stderr",
     "output_type": "stream",
     "text": [
      "2022-09-27 08:56:07.294 python[80913:6085431] _TIPropertyValueIsValid called with 4 on nil context!\n",
      "2022-09-27 08:56:07.294 python[80913:6085431] imkxpc_getApplicationProperty:reply: called with incorrect property value 4, bailing.\n",
      "2022-09-27 08:56:07.294 python[80913:6085431] Text input context does not respond to _valueForTIProperty:\n",
      "2022-09-27 08:56:07.296 python[80913:6085431] _TIPropertyValueIsValid called with 4 on nil context!\n",
      "2022-09-27 08:56:07.296 python[80913:6085431] imkxpc_getApplicationProperty:reply: called with incorrect property value 4, bailing.\n",
      "2022-09-27 08:56:07.296 python[80913:6085431] Text input context does not respond to _valueForTIProperty:\n",
      "2022-09-27 08:56:15.238 python[80913:6085431] _TIPropertyValueIsValid called with 4 on nil context!\n",
      "2022-09-27 08:56:15.238 python[80913:6085431] imkxpc_getApplicationProperty:reply: called with incorrect property value 4, bailing.\n",
      "2022-09-27 08:56:15.238 python[80913:6085431] Text input context does not respond to _valueForTIProperty:\n",
      "2022-09-27 08:56:15.240 python[80913:6085431] _TIPropertyValueIsValid called with 4 on nil context!\n",
      "2022-09-27 08:56:15.240 python[80913:6085431] imkxpc_getApplicationProperty:reply: called with incorrect property value 4, bailing.\n",
      "2022-09-27 08:56:15.240 python[80913:6085431] Text input context does not respond to _valueForTIProperty:\n"
     ]
    }
   ],
   "source": [
    "import csv\n",
    "import random\n",
    "import PySimpleGUI as sg\n",
    "\n",
    "sg.theme('DarkBlue')   # デザインテーマの設定\n",
    "\n",
    "cardList = []\n",
    "\n",
    "# ウィンドウに配置するコンポーネント\n",
    "layout = [  [sg.Text('ファイル選択'), sg.InputText(), sg.FileBrowse(key=\"file1\")],\n",
    "            [sg.Text('初期手札は何枚？'), sg.Radio('3枚', 'radioint'), sg.Radio('4枚', 'radioint'), sg.Radio('5枚', 'radioint'), sg.Radio('6枚', 'radioint'), sg.Radio('7枚', 'radioint')],\n",
    "            [sg.Text('・・・',key=\"tx1\")],\n",
    "            [sg.Button('カードを引く'), sg.Button('やめる')] ]\n",
    "\n",
    "# ウィンドウの生成\n",
    "window = sg.Window('デッキシャッフルシミュレータ', layout)\n",
    "\n",
    "# イベントループ\n",
    "while True:\n",
    "    event, values = window.read()\n",
    "    if event == sg.WIN_CLOSED or event == 'やめる':\n",
    "        break\n",
    "    elif event == 'カードを引く':\n",
    "        cardList = []\n",
    "        with open(values[0]) as f:\n",
    "            reader = csv.reader(f)\n",
    "            for row in reader:\n",
    "                for _ in range(int(row[1])):\n",
    "                    cardList.append(row[0])\n",
    "        if values[1] == True:\n",
    "           window[\"tx1\"].update('\\n'.join(random.sample(cardList, 3)))\n",
    "        if values[2] == True:\n",
    "           window[\"tx1\"].update('\\n'.join(random.sample(cardList, 4)))\n",
    "        if values[3] == True:\n",
    "           window[\"tx1\"].update('\\n'.join(random.sample(cardList, 5)))\n",
    "        if values[4] == True:\n",
    "           window[\"tx1\"].update('\\n'.join(random.sample(cardList, 6)))\n",
    "        if values[5] == True:\n",
    "           window[\"tx1\"].update('\\n'.join(random.sample(cardList, 7)))\n",
    "\n",
    "window.close()"
   ]
  },
  {
   "cell_type": "code",
   "execution_count": null,
   "id": "79dc0920",
   "metadata": {},
   "outputs": [],
   "source": []
  }
 ],
 "metadata": {
  "kernelspec": {
   "display_name": "Python 3 (ipykernel)",
   "language": "python",
   "name": "python3"
  },
  "language_info": {
   "codemirror_mode": {
    "name": "ipython",
    "version": 3
   },
   "file_extension": ".py",
   "mimetype": "text/x-python",
   "name": "python",
   "nbconvert_exporter": "python",
   "pygments_lexer": "ipython3",
   "version": "3.9.12"
  }
 },
 "nbformat": 4,
 "nbformat_minor": 5
}
